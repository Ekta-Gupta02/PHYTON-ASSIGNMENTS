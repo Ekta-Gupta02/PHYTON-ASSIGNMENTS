{
 "cells": [
  {
   "cell_type": "code",
   "execution_count": 1,
   "metadata": {},
   "outputs": [
    {
     "data": {
      "text/plain": [
       "4"
      ]
     },
     "execution_count": 1,
     "metadata": {},
     "output_type": "execute_result"
    }
   ],
   "source": [
    "2+2"
   ]
  },
  {
   "cell_type": "code",
   "execution_count": null,
   "metadata": {},
   "outputs": [],
   "source": [
    "# Calculator - +,-,%....... etc"
   ]
  },
  {
   "cell_type": "code",
   "execution_count": 2,
   "metadata": {},
   "outputs": [
    {
     "data": {
      "text/plain": [
       "32"
      ]
     },
     "execution_count": 2,
     "metadata": {},
     "output_type": "execute_result"
    }
   ],
   "source": [
    "4*8"
   ]
  },
  {
   "cell_type": "code",
   "execution_count": 4,
   "metadata": {},
   "outputs": [
    {
     "data": {
      "text/plain": [
       "7"
      ]
     },
     "execution_count": 4,
     "metadata": {},
     "output_type": "execute_result"
    }
   ],
   "source": [
    "7%49"
   ]
  },
  {
   "cell_type": "code",
   "execution_count": 5,
   "metadata": {},
   "outputs": [
    {
     "data": {
      "text/plain": [
       "1"
      ]
     },
     "execution_count": 5,
     "metadata": {},
     "output_type": "execute_result"
    }
   ],
   "source": [
    "4^5                                #   ^ - power off"
   ]
  },
  {
   "cell_type": "code",
   "execution_count": null,
   "metadata": {},
   "outputs": [],
   "source": [
    "#STRINGS ----"
   ]
  },
  {
   "cell_type": "code",
   "execution_count": 7,
   "metadata": {},
   "outputs": [
    {
     "name": "stdout",
     "output_type": "stream",
     "text": [
      "[1, 2, 3]\n"
     ]
    }
   ],
   "source": [
    "x=[1,2,3]                         # used for strings []\n",
    "print(x)"
   ]
  },
  {
   "cell_type": "code",
   "execution_count": null,
   "metadata": {},
   "outputs": [],
   "source": [
    "# special characters to be indicated with backslashs - \\.and double quote\" or single quotes' could be used."
   ]
  },
  {
   "cell_type": "code",
   "execution_count": 8,
   "metadata": {},
   "outputs": [
    {
     "data": {
      "text/plain": [
       "'my name is ekta'"
      ]
     },
     "execution_count": 8,
     "metadata": {},
     "output_type": "execute_result"
    }
   ],
   "source": [
    "\"my name is ekta\""
   ]
  },
  {
   "cell_type": "code",
   "execution_count": 9,
   "metadata": {},
   "outputs": [
    {
     "data": {
      "text/plain": [
       "'my name is ekta'"
      ]
     },
     "execution_count": 9,
     "metadata": {},
     "output_type": "execute_result"
    }
   ],
   "source": [
    "'my name is ekta'"
   ]
  },
  {
   "cell_type": "code",
   "execution_count": 12,
   "metadata": {},
   "outputs": [
    {
     "data": {
      "text/plain": [
       "'my name\\\\s is ekta\\\\s'"
      ]
     },
     "execution_count": 12,
     "metadata": {},
     "output_type": "execute_result"
    }
   ],
   "source": [
    "'my name\\s is ekta\\s'            # backslashs to create special character."
   ]
  },
  {
   "cell_type": "code",
   "execution_count": 13,
   "metadata": {},
   "outputs": [
    {
     "data": {
      "text/plain": [
       "'my name\\\\s is ekta\\\\s'"
      ]
     },
     "execution_count": 13,
     "metadata": {},
     "output_type": "execute_result"
    }
   ],
   "source": [
    "\"my name\\s is ekta\\s\""
   ]
  },
  {
   "cell_type": "code",
   "execution_count": 15,
   "metadata": {},
   "outputs": [
    {
     "data": {
      "text/plain": [
       "'doesn\\t'"
      ]
     },
     "execution_count": 15,
     "metadata": {},
     "output_type": "execute_result"
    }
   ],
   "source": [
    "\"doesn\\t\""
   ]
  },
  {
   "cell_type": "code",
   "execution_count": 18,
   "metadata": {},
   "outputs": [
    {
     "name": "stdout",
     "output_type": "stream",
     "text": [
      "firstline\n",
      "secondline\n"
     ]
    }
   ],
   "source": [
    "s = 'firstline\\nsecondline'\n",
    "print(s)"
   ]
  },
  {
   "cell_type": "code",
   "execution_count": 20,
   "metadata": {},
   "outputs": [
    {
     "name": "stdout",
     "output_type": "stream",
     "text": [
      "ekta and \n",
      " ekta\n"
     ]
    }
   ],
   "source": [
    "a = \"ekta and \\n ekta\"\n",
    "print(a)"
   ]
  },
  {
   "cell_type": "markdown",
   "metadata": {},
   "source": [
    "# ## Activity - 01 - create a variable called \"pi\" and assign the float value of 3.14 and print it."
   ]
  },
  {
   "cell_type": "code",
   "execution_count": 22,
   "metadata": {},
   "outputs": [
    {
     "name": "stdout",
     "output_type": "stream",
     "text": [
      "3.1415\n"
     ]
    }
   ],
   "source": [
    "pi=3.1415\n",
    "print(pi)"
   ]
  },
  {
   "cell_type": "code",
   "execution_count": null,
   "metadata": {},
   "outputs": [],
   "source": [
    "## IF STATEMENTS - elef , else, if...."
   ]
  },
  {
   "cell_type": "code",
   "execution_count": 42,
   "metadata": {
    "scrolled": true
   },
   "outputs": [
    {
     "ename": "IndentationError",
     "evalue": "unexpected indent (<ipython-input-42-ae4fb5a82ce7>, line 5)",
     "output_type": "error",
     "traceback": [
      "\u001b[1;36m  File \u001b[1;32m\"<ipython-input-42-ae4fb5a82ce7>\"\u001b[1;36m, line \u001b[1;32m5\u001b[0m\n\u001b[1;33m    x== 0:\u001b[0m\n\u001b[1;37m    ^\u001b[0m\n\u001b[1;31mIndentationError\u001b[0m\u001b[1;31m:\u001b[0m unexpected indent\n"
     ]
    }
   ],
   "source": [
    "x = int(input(\"please enter an integer\"))\n",
    "if x<0:\n",
    "    x=0\n",
    "elef(\"negetaive changes to zero\")\n",
    "    x == 0:\n",
    "    print('Zero')\n",
    "elef(\"negative changes to single\")\n",
    "    x == 1:\n",
    "    print('Single')\n",
    "else:\n",
    "    print(\"More\")\n",
    "    "
   ]
  },
  {
   "cell_type": "markdown",
   "metadata": {},
   "source": [
    "# # ACTIVITY -02 :Create a list 'mySecondList' with the following elements in it: 'a', 'b', 23, True. Extract out the last element using reverse indexing. Change the element at index 1 to 'bat'. Print out the modified list# "
   ]
  },
  {
   "cell_type": "code",
   "execution_count": 64,
   "metadata": {},
   "outputs": [
    {
     "name": "stdout",
     "output_type": "stream",
     "text": [
      "['True', 23, 'b', 'a']\n",
      "a\n",
      "['True', 'bat', 'b', 'a']\n"
     ]
    }
   ],
   "source": [
    "mysecondlist = ['a','b',23,'True']\n",
    "mysecondlist.reverse()\n",
    "print(mysecondlist)\n",
    "\n",
    "print(mysecondlist[3])\n",
    "\n",
    "mysecondlist[1]='bat'\n",
    "print(mysecondlist)\n",
    "\n",
    "\n"
   ]
  },
  {
   "cell_type": "code",
   "execution_count": null,
   "metadata": {},
   "outputs": [],
   "source": [
    "### RANGE CONCEPT"
   ]
  },
  {
   "cell_type": "markdown",
   "metadata": {},
   "source": [
    "# ACTIVITY:03\n",
    "Using a for loop and range() function, print out all the odd numbers between 20-30"
   ]
  },
  {
   "cell_type": "code",
   "execution_count": 70,
   "metadata": {},
   "outputs": [
    {
     "name": "stdout",
     "output_type": "stream",
     "text": [
      "5\n",
      "6\n",
      "7\n",
      "8\n",
      "9\n"
     ]
    }
   ],
   "source": [
    "for i in range(5,10):\n",
    "    print(i)"
   ]
  },
  {
   "cell_type": "code",
   "execution_count": 79,
   "metadata": {
    "scrolled": true
   },
   "outputs": [
    {
     "name": "stdout",
     "output_type": "stream",
     "text": [
      "0\n",
      "1\n"
     ]
    }
   ],
   "source": [
    "a = ('ekta','presha')\n",
    "for i in range(len(a)):\n",
    "    print(i)"
   ]
  },
  {
   "cell_type": "code",
   "execution_count": 82,
   "metadata": {},
   "outputs": [
    {
     "name": "stdout",
     "output_type": "stream",
     "text": [
      "2\n",
      "4\n",
      "6\n",
      "8\n"
     ]
    }
   ],
   "source": [
    "for i in range(2,10,2):\n",
    "    print(i)"
   ]
  },
  {
   "cell_type": "code",
   "execution_count": 83,
   "metadata": {},
   "outputs": [
    {
     "name": "stdout",
     "output_type": "stream",
     "text": [
      "5\n",
      "6\n",
      "7\n",
      "8\n"
     ]
    }
   ],
   "source": [
    "for ekta in range(5,9):\n",
    "    print (ekta)"
   ]
  },
  {
   "cell_type": "code",
   "execution_count": 100,
   "metadata": {},
   "outputs": [
    {
     "name": "stdout",
     "output_type": "stream",
     "text": [
      "ekta\n",
      "('ekta', 'savita', 'sneha')\n",
      "('ekta', 'savita', 'sneha')\n",
      "('ekta', 'savita', 'sneha')\n",
      "savita\n",
      "('ekta', 'savita', 'sneha')\n",
      "('ekta', 'savita', 'sneha')\n",
      "('ekta', 'savita', 'sneha')\n",
      "sneha\n",
      "('ekta', 'savita', 'sneha')\n",
      "('ekta', 'savita', 'sneha')\n",
      "('ekta', 'savita', 'sneha')\n"
     ]
    }
   ],
   "source": [
    "a = ('ekta','savita','sneha')\n",
    "for i in a:\n",
    "    print (i)\n",
    "    for i in range(len(a)):\n",
    "        print(a)"
   ]
  },
  {
   "cell_type": "code",
   "execution_count": 101,
   "metadata": {},
   "outputs": [
    {
     "name": "stdout",
     "output_type": "stream",
     "text": [
      "ekta  Lenght is  4\n",
      "vikas  Lenght is  5\n",
      "saket  Lenght is  5\n",
      "preesha  Lenght is  7\n"
     ]
    }
   ],
   "source": [
    "x=(\"ekta\",\"vikas\",\"saket\",\"preesha\")  \n",
    "for i in x:\n",
    "    print(i,\" Lenght is \",len(i))"
   ]
  },
  {
   "cell_type": "code",
   "execution_count": 107,
   "metadata": {},
   "outputs": [
    {
     "name": "stdout",
     "output_type": "stream",
     "text": [
      "1 odd num\n",
      "2 odd num\n",
      "3 odd num\n",
      "4 odd num\n",
      "5 even num\n",
      "6 odd num\n",
      "7 odd num\n",
      "8 odd num\n",
      "9 odd num\n",
      "10 even num\n",
      "11 odd num\n",
      "12 odd num\n",
      "13 odd num\n",
      "14 odd num\n",
      "15 even num\n",
      "16 odd num\n",
      "17 odd num\n",
      "18 odd num\n",
      "19 odd num\n"
     ]
    }
   ],
   "source": [
    "for i in range(1,20):\n",
    "    if i % 2 == 0:\n",
    "        print(i,\"even num\")\n",
    "        continue\n",
    "    print(i,\"odd num\")"
   ]
  },
  {
   "cell_type": "code",
   "execution_count": 108,
   "metadata": {},
   "outputs": [
    {
     "name": "stdout",
     "output_type": "stream",
     "text": [
      "Found an even number 20\n",
      "Found an odd number 21\n",
      "Found an even number 22\n",
      "Found an odd number 23\n",
      "Found an even number 24\n",
      "Found an odd number 25\n",
      "Found an even number 26\n",
      "Found an odd number 27\n",
      "Found an even number 28\n",
      "Found an odd number 29\n"
     ]
    }
   ],
   "source": [
    "for num in range(20 ,30):\n",
    "     if num % 2 == 0:\n",
    "        print(\"Found an even number\",num)\n",
    "        continue\n",
    "     print(\"Found an odd number\",num)"
   ]
  },
  {
   "cell_type": "code",
   "execution_count": null,
   "metadata": {},
   "outputs": [],
   "source": []
  }
 ],
 "metadata": {
  "kernelspec": {
   "display_name": "Python 3",
   "language": "python",
   "name": "python3"
  },
  "language_info": {
   "codemirror_mode": {
    "name": "ipython",
    "version": 3
   },
   "file_extension": ".py",
   "mimetype": "text/x-python",
   "name": "python",
   "nbconvert_exporter": "python",
   "pygments_lexer": "ipython3",
   "version": "3.8.3"
  }
 },
 "nbformat": 4,
 "nbformat_minor": 4
}
